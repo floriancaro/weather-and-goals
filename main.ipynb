{
 "cells": [
  {
   "cell_type": "markdown",
   "metadata": {},
   "source": [
    "## Load Packages"
   ]
  },
  {
   "cell_type": "code",
   "execution_count": 1,
   "metadata": {},
   "outputs": [],
   "source": [
    "# load packages\n",
    "import numpy as np\n",
    "import pandas as pd\n",
    "import os\n",
    "import urllib.request\n",
    "from bs4 import BeautifulSoup\n",
    "import requests, zipfile, io\n",
    "import re\n",
    "import seaborn as sns\n",
    "import math\n",
    "import csv\n",
    "import matplotlib.pyplot as plt\n",
    "import statsmodels.formula.api as sm"
   ]
  },
  {
   "cell_type": "markdown",
   "metadata": {},
   "source": [
    "## Download and Process German Weather Data"
   ]
  },
  {
   "cell_type": "code",
   "execution_count": null,
   "metadata": {},
   "outputs": [],
   "source": [
    "# set url to DWD website with recent/historical weather data\n",
    "# index_url = \"https://opendata.dwd.de/climate_environment/CDC/observations_germany/climate/daily/kl/recent/\"\n",
    "index_url = \"https://opendata.dwd.de/climate_environment/CDC/observations_germany/climate/daily/kl/historical/\"\n",
    "\n",
    "# access index of data for German weather stations\n",
    "handle = urllib.request.urlopen(index_url).read()\n",
    "soup = BeautifulSoup(handle, \"html.parser\")\n",
    "\n",
    "# extract the anchor elements\n",
    "tags = soup.findAll('a', href=True)\n",
    "\n",
    "# get the links to the zip files for all weather stations\n",
    "files = []\n",
    "for link in tags:\n",
    "    if link['href'].startswith('tageswerte'):\n",
    "        files.append(link['href'])\n",
    "\n",
    "# download all the zip files\n",
    "for file in files:\n",
    "    station_id = re.findall(r'_([0-9]*)_', file)[0]\n",
    "    r = requests.get(index_url + file)\n",
    "    z = zipfile.ZipFile(io.BytesIO(r.content))\n",
    "    # z.extractall(\"./zips/historical/\" + station_id)\n",
    "    z.extractall(\"./Data/zips/recent/\" + station_id)"
   ]
  },
  {
   "cell_type": "markdown",
   "metadata": {},
   "source": [
    "## Combine Match and Weather Data"
   ]
  },
  {
   "cell_type": "code",
   "execution_count": 2,
   "metadata": {},
   "outputs": [],
   "source": [
    "# get distance in kilometers\n",
    "def get_distance(lat_1, lng_1, lat_2, lng_2): \n",
    "    d_lat = lat_2 - lat_1\n",
    "    d_lng = lng_2 - lng_1 \n",
    "\n",
    "    temp = (  \n",
    "         math.sin(d_lat / 2) ** 2 \n",
    "       + math.cos(lat_1) \n",
    "       * math.cos(lat_2) \n",
    "       * math.sin(d_lng / 2) ** 2\n",
    "    )\n",
    "    # radius of the earth: 6373.0km\n",
    "    return 6373.0 * (2 * math.atan2(math.sqrt(temp), math.sqrt(1 - temp)))\n",
    "# get_distance(lat_1, lng_1, lat_2, lng_2)"
   ]
  },
  {
   "cell_type": "code",
   "execution_count": 3,
   "metadata": {},
   "outputs": [],
   "source": [
    "# load info on weather stations\n",
    "stations = pd.read_csv('Data/weather_stations.csv', sep=\",\")"
   ]
  },
  {
   "cell_type": "code",
   "execution_count": null,
   "metadata": {},
   "outputs": [],
   "source": [
    "# function to convert to degrees in decimal format\n",
    "# do not forget to convert from degrees to radians\n",
    "def dms2dd(s):\n",
    "    # example: s = \"0°51'\"\n",
    "    degrees, minutes = re.split(\"[°']\", s)[:2]\n",
    "    dd = float(degrees) + float(minutes)/60\n",
    "    return dd\n",
    "# dms2dd(\"0°51'\") # test function"
   ]
  },
  {
   "cell_type": "code",
   "execution_count": null,
   "metadata": {},
   "outputs": [],
   "source": [
    "# convert lat and lon to degrees in decimal format\n",
    "stations[\"geogr. Breite\"] = stations[\"geogr. Breite\"].apply(dms2dd)\n",
    "stations[\"geogr. Länge\"] = stations[\"geogr. Länge\"].apply(dms2dd)\n",
    "stations"
   ]
  },
  {
   "cell_type": "code",
   "execution_count": null,
   "metadata": {},
   "outputs": [],
   "source": [
    "# compute distances for each combination and find nearest weather station for each stadion\n",
    "stadiums = pd.read_csv('Data/bundesliga_stadiums.csv', sep=\",\")\n",
    "stadiums['team'] = stadiums['team'].str.strip()\n",
    "\n",
    "# initialize variables\n",
    "stadiums['min_dist'] = 10000\n",
    "stadiums['nearest_station'] = ''\n",
    "\n",
    "stadiums"
   ]
  },
  {
   "cell_type": "code",
   "execution_count": null,
   "metadata": {},
   "outputs": [],
   "source": [
    "# iterate through all stadiums and stations and find the nearest station for each stadium\n",
    "for index, row in stadiums.iterrows():\n",
    "    lng_1, lat_1 = map(math.radians, [row.lon, row.lat])\n",
    "    for index2, row2 in stations.iterrows():\n",
    "        lng_2, lat_2 = map(math.radians, [row2['geogr. Länge'], row2['geogr. Breite']])\n",
    "        d = get_distance(lat_1, lng_1, lat_2, lng_2)\n",
    "        if d < stadiums['min_dist'][index]:\n",
    "            stadiums.loc[index, 'nearest_station'] = row2['Stations_ID']\n",
    "            stadiums.loc[index, 'min_dist'] = d\n",
    "            \n",
    "stadiums"
   ]
  },
  {
   "cell_type": "code",
   "execution_count": null,
   "metadata": {},
   "outputs": [],
   "source": [
    "# load data on Bundesliag matches\n",
    "matches = pd.read_csv('Data/matches_cleaned_20_21.csv', sep=\",\")\n",
    "matches = pd.concat([matches, \n",
    "                     pd.read_csv('Data/matches_cleaned_19_20.csv', sep=\",\"), \n",
    "                     pd.read_csv('Data/matches_cleaned_18_19.csv', sep=\",\"), \n",
    "                     pd.read_csv('Data/matches_cleaned_17_18.csv', sep=\",\"), \n",
    "                     pd.read_csv('Data/matches_cleaned_16_17.csv', sep=\",\")]).reset_index(drop=True)\n",
    "matches['home'] = matches['home'].str.strip()\n",
    "matches['away'] = matches['away'].str.strip()\n",
    "matches"
   ]
  },
  {
   "cell_type": "code",
   "execution_count": null,
   "metadata": {
    "scrolled": true
   },
   "outputs": [],
   "source": [
    "# read one dataset separately to have an initial dataset\n",
    "all_weather = pd.read_csv('Data/zips/historical/01078/produkt_klima_tag_19520101_20201231_01078.txt', sep=';')\n",
    "\n",
    "# iterate through the weather data for all relevant station and join it to the match data\n",
    "for index, row in matches_station.iterrows():\n",
    "    # get current station ID\n",
    "    current_station = str(row['nearest_station'])\n",
    "    \n",
    "    # pad strings to 5 characters length\n",
    "    if len(current_station) == 3:\n",
    "        current_station = '00' + current_station\n",
    "    elif len(current_station) == 4:\n",
    "        current_station = '0' + current_station\n",
    "    \n",
    "    # get file with recent weather data\n",
    "    dir_files = [f for f in os.listdir('Data/zips/recent/' + str(current_station)) if f.startswith('produkt')]\n",
    "    \n",
    "    # load weather data\n",
    "    weather = pd.read_csv('Data/zips/recent/' + current_station + '/' + dir_files[0], sep=';')\n",
    "    \n",
    "    # add to weather data from other stations\n",
    "    all_weather = pd.concat([all_weather, weather])\n",
    "    \n",
    "    # get file with historical weather data\n",
    "    dir_files = [f for f in os.listdir('Data/zips/historical/' + str(current_station)) if f.startswith('produkt')]\n",
    "    \n",
    "    # load weather data\n",
    "    weather = pd.read_csv('Data/zips/historical/' + current_station + '/' + dir_files[0], sep=';')\n",
    "    \n",
    "    # add to weather data from other stations\n",
    "    all_weather = pd.concat([all_weather, weather])\n",
    "    all_weather.drop_duplicates(subset=['STATIONS_ID', 'MESS_DATUM'], keep='first', inplace=True)"
   ]
  },
  {
   "cell_type": "code",
   "execution_count": null,
   "metadata": {},
   "outputs": [],
   "source": [
    "# combine match data with station and weather data\n",
    "matches_station = pd.merge(matches, stadiums, left_on = 'home', right_on = 'team').sort_values('home').reset_index(drop=True)\n",
    "matches_station_weather = pd.merge(matches_station, all_weather, how='left',\n",
    "                               left_on = ['date_alt', 'nearest_station'],\n",
    "                               right_on = ['MESS_DATUM', 'STATIONS_ID']).sort_values('home').reset_index(drop=True)    \n",
    "matches_station_weather"
   ]
  },
  {
   "cell_type": "code",
   "execution_count": null,
   "metadata": {},
   "outputs": [],
   "source": [
    "# create column holding total number of goals for a given match\n",
    "matches_station_weather['score_total'] = matches_station_weather.home_score + matches_station_weather.away_score\n",
    "\n",
    "# remove whitespace form column names\n",
    "matches_station_weather.columns = matches_station_weather.columns.str.strip()\n",
    "\n",
    "# set missing values to NaN\n",
    "matches_station_weather.loc[matches_station_weather.RSK == -999, 'RSK'] = np.nan\n",
    "\n",
    "# create temperature squared variable\n",
    "matches_station_weather['TMK2'] = matches_station_weather['TMK']**2"
   ]
  },
  {
   "cell_type": "code",
   "execution_count": null,
   "metadata": {},
   "outputs": [],
   "source": [
    "# generate bins for RSK (Niederschlag) values\n",
    "matches_station_weather['RSK_bin'] = 0\n",
    "for index, row in matches_station_weather.iterrows():\n",
    "    if matches_station_weather.loc[index, 'RSK'] == 0:\n",
    "        matches_station_weather.loc[index, 'RSK_bin'] = 0\n",
    "    elif matches_station_weather.loc[index, 'RSK'] < 5:\n",
    "        matches_station_weather.loc[index, 'RSK_bin'] = 1\n",
    "    elif matches_station_weather.loc[index, 'RSK'] < 10:\n",
    "        matches_station_weather.loc[index, 'RSK_bin'] = 2\n",
    "    elif matches_station_weather.loc[index, 'RSK'] < 15:\n",
    "        matches_station_weather.loc[index, 'RSK_bin'] = 3\n",
    "    elif matches_station_weather.loc[index, 'RSK'] < 20:\n",
    "        matches_station_weather.loc[index, 'RSK_bin'] = 4\n",
    "    elif matches_station_weather.loc[index, 'RSK'] < 25:\n",
    "        matches_station_weather.loc[index, 'RSK_bin'] = 5\n",
    "    elif matches_station_weather.loc[index, 'RSK'] < 30:\n",
    "        matches_station_weather.loc[index, 'RSK_bin'] = 6\n",
    "    else:\n",
    "        matches_station_weather.loc[index, 'RSK_bin'] = 7"
   ]
  },
  {
   "cell_type": "code",
   "execution_count": null,
   "metadata": {},
   "outputs": [],
   "source": [
    "# generate bins for TSK (temperature) values\n",
    "matches_station_weather['TMK_bin'] = 0\n",
    "for index, row in matches_station_weather.iterrows():\n",
    "    if matches_station_weather.loc[index, 'TMK'] < -10:\n",
    "        matches_station_weather.loc[index, 'TMK_bin'] = -10\n",
    "    elif matches_station_weather.loc[index, 'TMK'] < -5:\n",
    "        matches_station_weather.loc[index, 'TMK_bin'] = -5\n",
    "    elif matches_station_weather.loc[index, 'TMK'] < 0:\n",
    "        matches_station_weather.loc[index, 'TMK_bin'] = 0\n",
    "    elif matches_station_weather.loc[index, 'TMK'] < 5:\n",
    "        matches_station_weather.loc[index, 'TMK_bin'] = 5\n",
    "    elif matches_station_weather.loc[index, 'TMK'] < 10:\n",
    "        matches_station_weather.loc[index, 'TMK_bin'] = 10\n",
    "    elif matches_station_weather.loc[index, 'TMK'] < 15:\n",
    "        matches_station_weather.loc[index, 'TMK_bin'] = 15\n",
    "    elif matches_station_weather.loc[index, 'TMK'] < 20:\n",
    "        matches_station_weather.loc[index, 'TMK_bin'] = 20\n",
    "    elif matches_station_weather.loc[index, 'TMK'] < 25:\n",
    "        matches_station_weather.loc[index, 'TMK_bin'] = 25\n",
    "    else:\n",
    "        matches_station_weather.loc[index, 'TMK_bin'] = 30"
   ]
  },
  {
   "cell_type": "markdown",
   "metadata": {},
   "source": [
    "## Plot Results"
   ]
  },
  {
   "cell_type": "code",
   "execution_count": null,
   "metadata": {},
   "outputs": [],
   "source": [
    "# calculate means by RSK and TMK bins\n",
    "RSK_bin_means = matches_station_weather.groupby('RSK_bin')['score_total'].mean().reset_index()\n",
    "TMK_bin_means = matches_station_weather.groupby('TMK_bin')['score_total'].mean().reset_index()"
   ]
  },
  {
   "cell_type": "code",
   "execution_count": null,
   "metadata": {},
   "outputs": [],
   "source": [
    "plt.plot(matches_station_weather['score_total'], matches_station_weather['RSK'], 'o')"
   ]
  },
  {
   "cell_type": "code",
   "execution_count": null,
   "metadata": {},
   "outputs": [],
   "source": [
    "plt.plot(RSK_bin_means['RSK_bin'], RSK_bin_means['score_total'], 'o')"
   ]
  },
  {
   "cell_type": "code",
   "execution_count": null,
   "metadata": {},
   "outputs": [],
   "source": [
    "plt.plot(matches_station_weather['score_total'], matches_station_weather['TMK'], 'o')"
   ]
  },
  {
   "cell_type": "code",
   "execution_count": null,
   "metadata": {},
   "outputs": [],
   "source": [
    "reg = sm.ols('score_total ~ RSK', data = matches_station_weather).fit()\n",
    "reg.summary()"
   ]
  },
  {
   "cell_type": "code",
   "execution_count": null,
   "metadata": {},
   "outputs": [],
   "source": [
    "reg = sm.ols('score_total ~ TMK', data = matches_station_weather).fit()\n",
    "reg.summary()"
   ]
  },
  {
   "cell_type": "code",
   "execution_count": null,
   "metadata": {},
   "outputs": [],
   "source": [
    "# run regression to get coefficients\n",
    "reg = sm.ols('score_total ~ TMK + TMK2', data = matches_station_weather).fit()\n",
    "reg.summary()"
   ]
  },
  {
   "cell_type": "code",
   "execution_count": null,
   "metadata": {},
   "outputs": [],
   "source": [
    "# Plot the final results\n",
    "plt.figure(figsize=(8,6))\n",
    "plt.subplot(111)\n",
    "plt.xlim(-40, 90)\n",
    "plt.ylim(-3.5, 11)\n",
    "\n",
    "# violin plot\n",
    "sns.violinplot(x = 'TMK_bin', y = 'score_total', data = matches_station_weather, color=\"skyblue\");\n",
    "\n",
    "#regression part\n",
    "intercept, slope1, slope2 = reg.params\n",
    "x = matches_station_weather['TMK_bin'].sort_values().unique()\n",
    "line = intercept + slope1*x + slope2*(x**2)\n",
    "plt.plot(x, line, 'r', label='y = {:.2f} + {:.2f}x + ({:.2f}x^2)'.format(intercept, slope1, slope2))\n",
    "#end\n",
    "\n",
    "plt.legend(fontsize=9, loc = 'upper left')\n",
    "plt.ylabel('Total Goals Scored')\n",
    "plt.xlabel('Temperature (5°C Bins)')\n",
    "plt.title('Goals Scored and Temperature')"
   ]
  },
  {
   "cell_type": "code",
   "execution_count": null,
   "metadata": {},
   "outputs": [],
   "source": []
  }
 ],
 "metadata": {
  "kernelspec": {
   "display_name": "weather",
   "language": "python",
   "name": "weather"
  },
  "language_info": {
   "codemirror_mode": {
    "name": "ipython",
    "version": 3
   },
   "file_extension": ".py",
   "mimetype": "text/x-python",
   "name": "python",
   "nbconvert_exporter": "python",
   "pygments_lexer": "ipython3",
   "version": "3.9.7"
  }
 },
 "nbformat": 4,
 "nbformat_minor": 4
}
